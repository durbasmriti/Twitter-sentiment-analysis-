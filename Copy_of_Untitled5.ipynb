{
  "nbformat": 4,
  "nbformat_minor": 0,
  "metadata": {
    "colab": {
      "provenance": []
    },
    "kernelspec": {
      "name": "python3",
      "display_name": "Python 3"
    },
    "language_info": {
      "name": "python"
    }
  },
  "cells": [
    {
      "cell_type": "code",
      "execution_count": 1,
      "metadata": {
        "id": "aoOftF-UAK0t"
      },
      "outputs": [],
      "source": [
        "import numpy as np\n",
        "import pandas as pd"
      ]
    },
    {
      "cell_type": "code",
      "source": [
        "import nltk\n",
        "from nltk.corpus import twitter_samples\n",
        "\n",
        "nltk.download('twitter_samples')"
      ],
      "metadata": {
        "colab": {
          "base_uri": "https://localhost:8080/"
        },
        "id": "7Omx2BU7db2k",
        "outputId": "881d047e-6973-4948-cfd8-abcefd8d7f20"
      },
      "execution_count": 2,
      "outputs": [
        {
          "output_type": "stream",
          "name": "stderr",
          "text": [
            "[nltk_data] Downloading package twitter_samples to /root/nltk_data...\n",
            "[nltk_data]   Unzipping corpora/twitter_samples.zip.\n"
          ]
        },
        {
          "output_type": "execute_result",
          "data": {
            "text/plain": [
              "True"
            ]
          },
          "metadata": {},
          "execution_count": 2
        }
      ]
    },
    {
      "cell_type": "code",
      "source": [
        "##  seperating positive and negative tweets\n",
        "positiveTweets = twitter_samples.strings('positive_tweets.json')\n",
        "negativeTweets = twitter_samples.strings('negative_tweets.json')\n",
        "all_tweets = positiveTweets + negativeTweets"
      ],
      "metadata": {
        "id": "7K8KK1KNFPmh"
      },
      "execution_count": 3,
      "outputs": []
    },
    {
      "cell_type": "code",
      "source": [
        "## text cleaning\n",
        "import re\n",
        "\n",
        "def clean_text(tweet):\n",
        "    tweet = re.sub(r'@[A-Za-z0-9_]+', '',  tweet)  ### removing mentions in the tweet\n",
        "    tweet = re.sub(r'#', '',  tweet)  ## removing hashtags\n",
        "    tweet = re.sub(r'http\\S+', '', tweet)  #  removing URLs starting with \"http\n",
        "    tweet = re.sub(r'[^A-Za-z ]+', '', tweet)  # removing  non-alphabetic characters except space\n",
        "    tweet=  tweet.lower()   ### converting the entire tweet to lowercase\n",
        "\n",
        "    return  tweet\n",
        "\n",
        "    cleaned_tweets = [clean_text(tweet) for tweet in all_tweets]\n",
        "\n"
      ],
      "metadata": {
        "id": "FPAnw315df-o"
      },
      "execution_count": 4,
      "outputs": []
    },
    {
      "cell_type": "code",
      "source": [
        "                                  # ********* tokenization(to break text into indivisual units called tokens) **********\n",
        "from nltk.corpus import twitter_samples\n",
        "from nltk.tokenize import TweetTokenizer\n",
        "# The just below code is setting all words to lower case , removing twitter handles and  reducing the length of repeated characters\n",
        "tweet_tokenizer = TweetTokenizer(preserve_case=False, strip_handles=True, reduce_len=True)\n",
        "\n",
        "pos_tokens = [tweet_tokenizer.tokenize(tweet) for tweet in positiveTweets]\n",
        "neg_tokens = [tweet_tokenizer.tokenize(tweet) for tweet in negativeTweets]\n",
        "cleaned_tokenized_tweets = [tweet_tokenizer.tokenize(clean_text(tweet)) for tweet in all_tweets]\n",
        "\n",
        "# print(cleaned_tokenized_tweets)\n"
      ],
      "metadata": {
        "id": "1MbYekTOhO90"
      },
      "execution_count": 5,
      "outputs": []
    },
    {
      "cell_type": "code",
      "source": [
        "all_tokens =  cleaned_tokenized_tweets\n",
        "labels = [1] * len(positiveTweets) + [0] * len(negativeTweets)    ## --> 1 mean pos tweets and 0 means neg ones"
      ],
      "metadata": {
        "id": "6wEhSUJ0nOMb"
      },
      "execution_count": 6,
      "outputs": []
    },
    {
      "cell_type": "code",
      "source": [
        "print(len(all_tokens))\n",
        "print(len(labels))  # both the length must be equal for further processes that's why checking if it is going well"
      ],
      "metadata": {
        "colab": {
          "base_uri": "https://localhost:8080/"
        },
        "id": "OoTHJFvArUEn",
        "outputId": "6d858219-0502-4171-805b-d3398b6cb2e2"
      },
      "execution_count": 7,
      "outputs": [
        {
          "output_type": "stream",
          "name": "stdout",
          "text": [
            "10000\n",
            "10000\n"
          ]
        }
      ]
    },
    {
      "cell_type": "code",
      "source": [
        "from sklearn.model_selection import train_test_split\n",
        "\n",
        "train_tokens, test_tokens, train_labels, test_labels = train_test_split(all_tokens, labels, test_size=0.2, random_state=42)\n"
      ],
      "metadata": {
        "id": "Suxy7e2fpsqO"
      },
      "execution_count": 8,
      "outputs": []
    },
    {
      "cell_type": "code",
      "source": [
        "from nltk.stem import PorterStemmer   # stemming is a text normalization technique . Its main purpose o is to simplify words by removing suffixes or prefixes\n",
        "porter_stemmer = PorterStemmer()"
      ],
      "metadata": {
        "id": "P4tTKRJ40Yrn"
      },
      "execution_count": 9,
      "outputs": []
    },
    {
      "cell_type": "code",
      "source": [
        "train_stemmed_tokens = [[porter_stemmer.stem(word) for word in tokens] for tokens in train_tokens]\n",
        "\n",
        "test_stemmed_tokens = [[porter_stemmer.stem(word) for word in tokens] for tokens in test_tokens]\n",
        "\n",
        "# print(test_stemmed_tokens)\n"
      ],
      "metadata": {
        "id": "511w7O7Cv-qC"
      },
      "execution_count": 10,
      "outputs": []
    },
    {
      "cell_type": "code",
      "source": [
        "def handle_negation(tokens):  ##  important, so that 'good' and 'not good' are not interpreted as same review\n",
        "    negation_words = ['not', 'no', 'isn\\'t', 'don\\'t', 'doesn\\'t', 'cannot', 'can\\'t']\n",
        "\n",
        "    negation_pattern = re.compile(r'\\b(?:' + '|'.join(negation_words) + r')\\b(\\w+)')\n",
        "\n",
        "    def add_not_prefix(match):\n",
        "        return 'not_' + match.group(1)\n",
        "\n",
        "    tokens_with_negation = [negation_pattern.sub(add_not_prefix, token) for token in tokens]\n",
        "\n",
        "    return tokens_with_negation\n",
        "\n",
        "train_with_negation = [handle_negation(tokens) for tokens in train_stemmed_tokens]\n",
        "test_with_negation = [handle_negation(tokens) for tokens in test_stemmed_tokens]\n",
        "\n",
        "# print(test_with_negation)\n",
        "\n",
        "\n"
      ],
      "metadata": {
        "id": "kugOmCMnrRs2"
      },
      "execution_count": 11,
      "outputs": []
    },
    {
      "cell_type": "code",
      "source": [
        "def expand_contractions(tokens):\n",
        "    contraction_mapping = { \"cant\": \"cannot\", \"wont\": \"will not\", \"'m\": \" am\", \"'ll\": \" will\",\"'s\":\" is\",\"'re\": \" are\", \"'d\": \" would\", \"nt\": \" not\", \"'ve\": \" have\",\"'cause\": \"because\",\n",
        "    \"couldve\": \"could have\",\n",
        "    \"couldnt\": \"could not\",\"cant\":\"cannot\",\"dont\":\"do not\",\n",
        "    \"didnt\": \"did not\",\n",
        "    \"doesnt\": \"does not\",\"lets\": \"let us\",\"mustnt\": \"must not\",\n",
        "    \"neednt\": \"need not\",\"wasnt\": \"was not\",\"oughtn't\": \"ought not\",\n",
        "    \"shallnt\": \"shall not\",\n",
        "    \"shed\": \"she would\",\"maam\": \"madam\",\"yall\": \"you all\"}\n",
        "\n",
        "    text = ' '.join(tokens)\n",
        "\n",
        "    contraction_pattern = re.compile(r'\\b(?:%s)\\b' % '|'.join(contraction_mapping.keys()))\n",
        "    expanded_text = contraction_pattern.sub(lambda match: contraction_mapping[match.group(0)], tokens)\n",
        "\n",
        "    expanded_tokens = expanded_text.split()\n",
        "\n",
        "    return expanded_tokens\n",
        "\n",
        "expanded_train_tokens = [[expand_contractions(token) for token in tokens] for tokens in train_with_negation]\n",
        "expanded_test_tokens = [[expand_contractions(token) for token in tokens] for tokens in test_with_negation]\n",
        "\n",
        "# print(expanded_test_tokens)"
      ],
      "metadata": {
        "id": "2tHaBGYE04WA"
      },
      "execution_count": 12,
      "outputs": []
    },
    {
      "cell_type": "code",
      "source": [
        "def handle_emoticons_abbreviations(tokens):\n",
        "    emoticon_mapping = {\n",
        "        \"lol\": \"laugh out loud\",\n",
        "        \"brb\": \"be right back\",\n",
        "        \"btw\": \"by the way\",\n",
        "        \"omg\": \"oh my god\",\n",
        "        \"ASAP\": \"As soon as possible\",\n",
        "         \"pls\": \"please\",\"bday\":\"birthday\",\n",
        "    \"thx\": \"thanks\",\"im\":\"i am\",\n",
        "    \"afaik\": \"as far as i know\",\"havent\":\"have not\",\n",
        "    \"imo\": \"in my opinion\",\"didnt\":\"did not\",\n",
        "    \"ngl\":\"not going to lie\", \"rt\":\"retweet\",\"bae\":\"before anyone else\",\n",
        "    \"ngl\":\"not going to lie\", \"rt\":\"retweet\",\n",
        "        \"wanna\":\"want to\",\"gonna\":\"going to\",\n",
        "        \"lmao\":\"laughing my ass off\", \"lmfao\":\"laughing my freaking ass off\", \"TBH\": \"To be honest\",\"bts\": \"Behind the scenes\",\"IDK\": \"I do not know\",\"HBD\": \"Happy birthday\",\n",
        "    \"emm\":\"email me\",\"gratz\": \"congratulations\",\"pov\":\"Point of view\",\"wasnt\":\"was not\",\"tmrw\":\"tomorrow\",\"dm\":\"direct message\",\"gal\":\"girl\",\"boi\":\"boy\"\n",
        "    }\n",
        "\n",
        "    text = ' '.join(tokens)\n",
        "\n",
        "    for emoticon, meaning in emoticon_mapping.items():\n",
        "        text = text.replace(emoticon, meaning)\n",
        "\n",
        "    abbreviation_mapping = {\n",
        "        \"u\": \"you\",\n",
        "        \"r\": \"are\",\n",
        "        \"2\": \"to\",\n",
        "        \"4\": \"for\",\n",
        "        \"gr8\": \"great\",\n",
        "    \"xd\":\"Laugh Out Loud\",\n",
        "    \"P\": \"tongue out\",\n",
        "    \"b4\": \"before\",\"fam\": \"family\"\n",
        "\n",
        "\n",
        "    }\n",
        "\n",
        "    for abbreviation, expansion in abbreviation_mapping.items():\n",
        "        text = re.sub(r'\\b%s\\b' % re.escape(abbreviation), expansion, text)\n",
        "\n",
        "    expanded_tokens = text.split()\n",
        "\n",
        "    return expanded_tokens\n",
        "\n",
        "cleaned_train_tokens = [[handle_emoticons_abbreviations(token) for token in tokens] for tokens in expanded_train_tokens]\n",
        "cleaned_test_tokens = [[handle_emoticons_abbreviations(token) for token in tokens] for tokens in expanded_test_tokens]\n",
        "\n",
        "# print(cleaned_test_tokens)\n"
      ],
      "metadata": {
        "id": "FYbVUvPr-Et2"
      },
      "execution_count": 13,
      "outputs": []
    },
    {
      "cell_type": "code",
      "source": [
        "# removing stopwords\n",
        "import nltk\n",
        "from nltk.corpus import stopwords\n",
        "\n",
        "nltk.download('stopwords')\n",
        "\n",
        "def removing_stopwords(tokens_list):\n",
        "    stop_words = set(stopwords.words('english'))\n",
        "    flattened_tokens = [token for tokens in tokens_list for token in tokens]\n",
        "    filtered_tokens = [token for token in flattened_tokens if token not in stop_words]\n",
        "    return filtered_tokens\n",
        "\n",
        "stopwords_free_train_tokens = [removing_stopwords(tokens) for tokens in cleaned_train_tokens]\n",
        "stopwords_free_test_tokens = [removing_stopwords(tokens) for tokens in cleaned_test_tokens]\n",
        "\n",
        "# print(stopwords_free_test_tokens)\n"
      ],
      "metadata": {
        "colab": {
          "base_uri": "https://localhost:8080/"
        },
        "id": "kvsPMjUbc7SN",
        "outputId": "0db86458-3a02-48c7-9805-1facd84f9487"
      },
      "execution_count": 14,
      "outputs": [
        {
          "output_type": "stream",
          "name": "stderr",
          "text": [
            "[nltk_data] Downloading package stopwords to /root/nltk_data...\n",
            "[nltk_data]   Unzipping corpora/stopwords.zip.\n"
          ]
        }
      ]
    },
    {
      "cell_type": "code",
      "source": [
        "# Vectorization is the process of converting non-numeric data (such as text, images, or categorical features) into a numerical format.\n",
        "from sklearn.pipeline import Pipeline\n",
        "from sklearn.feature_extraction.text import TfidfVectorizer\n",
        "text_train = [' '.join(tokens) for tokens in stopwords_free_train_tokens]  ### concatenate the tokens of each tweet into a single string separated by spaces\n",
        "text_test = [' '.join(tokens) for tokens in stopwords_free_test_tokens]\n",
        "tfidf_vectorizer = TfidfVectorizer()   #implementation of the TF-IDF vectorization\n",
        "X_train_tfidf = tfidf_vectorizer.fit_transform(text_train)\n",
        "X_test_tfidf = tfidf_vectorizer.transform(text_test)  # transforming the respective data set into TF-IDF representations.\n",
        "print(\"Shape of X_train_tfidf:\", X_train_tfidf.shape)\n",
        "print(\"Shape of X_test_tfidf:\", X_test_tfidf.shape)"
      ],
      "metadata": {
        "colab": {
          "base_uri": "https://localhost:8080/"
        },
        "id": "kZ9gHitdFJ-9",
        "outputId": "3d6bf5d1-f732-4244-ad18-dd0feac2dc3b"
      },
      "execution_count": 15,
      "outputs": [
        {
          "output_type": "stream",
          "name": "stdout",
          "text": [
            "Shape of X_train_tfidf: (8000, 8586)\n",
            "Shape of X_test_tfidf: (2000, 8586)\n"
          ]
        }
      ]
    },
    {
      "cell_type": "code",
      "source": [
        "                                            # ******* LOGISTIC REGERSSION*******\n",
        "\n",
        "from sklearn.linear_model import LogisticRegression\n",
        "from sklearn.metrics import accuracy_score, classification_report,recall_score,roc_auc_score,precision_score,roc_curve\n",
        "\n",
        "from sklearn.model_selection import train_test_split\n",
        "\n",
        "X_train, X_val, y_train, y_val = train_test_split(X_train_tfidf, train_labels, test_size=0.2, random_state=50) # 80% data--> training ,rest for testing\n",
        "# in above , 'random_seed' helps to fix the data splitted for specific set\n",
        "logreg_model = LogisticRegression(random_state=50)\n",
        "\n",
        "logreg_model.fit(X_train, y_train)  # training the model on the training data\n",
        "\n",
        "predictions = logreg_model.predict(X_val)  # here X_val is the input for predicting corresponding class labels\n",
        "\n",
        "accuracy = accuracy_score(y_val, predictions)\n",
        "print(f'Accuracy: {accuracy:.4f}')\n",
        "\n",
        "print('\\nClassification Report:')\n",
        "print(classification_report(y_val, predictions))\n"
      ],
      "metadata": {
        "colab": {
          "base_uri": "https://localhost:8080/"
        },
        "id": "fftQAUMIIM3U",
        "outputId": "5b4d132d-c5fb-476a-e25c-6efb7902b308"
      },
      "execution_count": 16,
      "outputs": [
        {
          "output_type": "stream",
          "name": "stdout",
          "text": [
            "Accuracy: 0.7525\n",
            "\n",
            "Classification Report:\n",
            "              precision    recall  f1-score   support\n",
            "\n",
            "           0       0.74      0.77      0.76       793\n",
            "           1       0.77      0.73      0.75       807\n",
            "\n",
            "    accuracy                           0.75      1600\n",
            "   macro avg       0.75      0.75      0.75      1600\n",
            "weighted avg       0.75      0.75      0.75      1600\n",
            "\n"
          ]
        }
      ]
    },
    {
      "cell_type": "code",
      "source": [
        "test_predictions = logreg_model.predict(X_test_tfidf)   # prediction on test set\n",
        "\n",
        "test_accuracy = accuracy_score(test_labels, test_predictions)\n",
        "print(f'Test Accuracy: {test_accuracy:.4f}')\n"
      ],
      "metadata": {
        "colab": {
          "base_uri": "https://localhost:8080/"
        },
        "id": "9aqKIgtaJbgx",
        "outputId": "af5c6799-8e76-447d-f074-ace75854b80e"
      },
      "execution_count": 17,
      "outputs": [
        {
          "output_type": "stream",
          "name": "stdout",
          "text": [
            "Test Accuracy: 0.7405\n"
          ]
        }
      ]
    },
    {
      "cell_type": "code",
      "source": [
        "import matplotlib.pyplot as plt\n",
        "import numpy as np\n",
        "import seaborn as sns\n",
        "from sklearn.metrics import confusion_matrix, accuracy_score, classification_report\n",
        "\n",
        "\n",
        "conf_matrix = confusion_matrix(y_val, predictions)\n",
        "labels = np.unique(y_val)\n",
        "sns.heatmap(conf_matrix, annot=True, fmt='d', cmap='Blues', xticklabels=labels, yticklabels=labels)\n",
        "plt.title('Confusion Matrix')\n",
        "plt.xlabel('Predicted Labels')\n",
        "plt.ylabel('True Labels')\n",
        "plt.show()"
      ],
      "metadata": {
        "colab": {
          "base_uri": "https://localhost:8080/",
          "height": 472
        },
        "id": "C4E14oFpIXCa",
        "outputId": "5f82b9d8-84bd-43c8-a40e-d176c2f6f98a"
      },
      "execution_count": 18,
      "outputs": [
        {
          "output_type": "display_data",
          "data": {
            "text/plain": [
              "<Figure size 640x480 with 2 Axes>"
            ],
            "image/png": "[encoded data removed]"
          },
          "metadata": {}
        }
      ]
    }
  ]
}